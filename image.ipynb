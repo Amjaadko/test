{
  "nbformat": 4,
  "nbformat_minor": 0,
  "metadata": {
    "colab": {
      "provenance": [],
      "authorship_tag": "ABX9TyNTt9A1Xfd13O7dBTPfK9Xb",
      "include_colab_link": true
    },
    "kernelspec": {
      "name": "python3",
      "display_name": "Python 3"
    },
    "language_info": {
      "name": "python"
    }
  },
  "cells": [
    {
      "cell_type": "markdown",
      "metadata": {
        "id": "view-in-github",
        "colab_type": "text"
      },
      "source": [
        "<a href=\"https://colab.research.google.com/github/Amjaadko/test/blob/main/image.ipynb\" target=\"_parent\"><img src=\"https://colab.research.google.com/assets/colab-badge.svg\" alt=\"Open In Colab\"/></a>"
      ]
    },
    {
      "cell_type": "code",
      "execution_count": 3,
      "metadata": {
        "colab": {
          "base_uri": "https://localhost:8080/"
        },
        "id": "8swBxN7Qv-Tv",
        "outputId": "3d87d22a-1315-49d9-9bb7-3318bcb5a0c7"
      },
      "outputs": [
        {
          "output_type": "stream",
          "name": "stdout",
          "text": [
            "Original array shape: (851, 1280, 3)\n",
            "Modified array shape: (851, 1280, 3)\n"
          ]
        }
      ],
      "source": [
        "from PIL import Image\n",
        "import numpy as np\n",
        "\n",
        "def image_to_array(filename):\n",
        "    image = Image.open(filename)\n",
        "    image_array = np.array(image)\n",
        "    return image_array\n",
        "\n",
        "def modify_image_array(image_array):\n",
        "    # Example modification: Invert the colors of the image\n",
        "    modified_array = 199 - image_array\n",
        "    return modified_array\n",
        "\n",
        "def array_to_image(image_array, output_filename):\n",
        "    image = Image.fromarray(image_array)\n",
        "    image.save(output_filename)\n",
        "\n",
        "# Example usage\n",
        "filename = \"/content/simba-8618301_1280.jpg\"\n",
        "array_data = image_to_array(filename)\n",
        "print(\"Original array shape:\", array_data.shape)\n",
        "\n",
        "modified_data = modify_image_array(array_data)\n",
        "print(\"Modified array shape:\", modified_data.shape)\n",
        "\n",
        "output_filename = \"/content/simba-8618301_1280.jpg\"\n",
        "array_to_image(modified_data, output_filename)"
      ]
    },
    {
      "cell_type": "code",
      "source": [
        "after_edit = array_data*2.0\n",
        "after_edit"
      ],
      "metadata": {
        "colab": {
          "base_uri": "https://localhost:8080/"
        },
        "id": "974xvgk1w4h5",
        "outputId": "4d90d4b3-0034-4e3a-b250-b8a827ddd647"
      },
      "execution_count": 4,
      "outputs": [
        {
          "output_type": "execute_result",
          "data": {
            "text/plain": [
              "array([[[462., 392., 332.],\n",
              "        [460., 390., 330.],\n",
              "        [458., 388., 328.],\n",
              "        ...,\n",
              "        [504., 504., 504.],\n",
              "        [504., 504., 504.],\n",
              "        [504., 504., 504.]],\n",
              "\n",
              "       [[454., 384., 324.],\n",
              "        [456., 386., 326.],\n",
              "        [460., 390., 330.],\n",
              "        ...,\n",
              "        [504., 504., 504.],\n",
              "        [504., 504., 504.],\n",
              "        [504., 504., 504.]],\n",
              "\n",
              "       [[454., 384., 324.],\n",
              "        [458., 388., 328.],\n",
              "        [462., 392., 332.],\n",
              "        ...,\n",
              "        [502., 502., 502.],\n",
              "        [502., 502., 502.],\n",
              "        [502., 502., 502.]],\n",
              "\n",
              "       ...,\n",
              "\n",
              "       [[400., 260., 208.],\n",
              "        [412., 272., 220.],\n",
              "        [392., 258., 200.],\n",
              "        ...,\n",
              "        [488., 468., 466.],\n",
              "        [488., 468., 466.],\n",
              "        [488., 468., 466.]],\n",
              "\n",
              "       [[394., 254., 202.],\n",
              "        [410., 270., 218.],\n",
              "        [390., 256., 198.],\n",
              "        ...,\n",
              "        [488., 468., 466.],\n",
              "        [488., 468., 466.],\n",
              "        [488., 468., 466.]],\n",
              "\n",
              "       [[386., 246., 194.],\n",
              "        [406., 266., 214.],\n",
              "        [390., 256., 198.],\n",
              "        ...,\n",
              "        [488., 468., 466.],\n",
              "        [488., 468., 466.],\n",
              "        [488., 468., 466.]]])"
            ]
          },
          "metadata": {},
          "execution_count": 4
        }
      ]
    }
  ]
}